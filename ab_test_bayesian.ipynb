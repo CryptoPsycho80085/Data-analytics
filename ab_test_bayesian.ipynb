{
 "cells": [
  {
   "cell_type": "code",
   "execution_count": 1,
   "id": "1e7e8760",
   "metadata": {},
   "outputs": [],
   "source": [
    "import pandas as pd\n",
    "import numpy as np\n",
    "import scipy.stats as stats"
   ]
  },
  {
   "cell_type": "code",
   "execution_count": 2,
   "id": "dafecd3c",
   "metadata": {},
   "outputs": [],
   "source": [
    "df = pd.read_csv('./ab_test.csv')"
   ]
  },
  {
   "cell_type": "code",
   "execution_count": 3,
   "id": "6ff5bc94",
   "metadata": {},
   "outputs": [],
   "source": [
    "df.columns = ['user_id', 'timestamp', 'group', 'landing_page', 'converted']"
   ]
  },
  {
   "cell_type": "code",
   "execution_count": 4,
   "id": "55d0a5dd",
   "metadata": {},
   "outputs": [],
   "source": [
    "fdf = df[(df[\"group\"] == \"treatment\") & (df[\"landing_page\"] == \"new_page\") |\n",
    "              (df[\"group\"] == \"control\") & (df[\"landing_page\"] == \"old_page\")]"
   ]
  },
  {
   "cell_type": "code",
   "execution_count": 6,
   "id": "a78a6fff",
   "metadata": {},
   "outputs": [],
   "source": [
    "# Set the prior distribution parameters\n",
    "alpha_control_prior = 1\n",
    "beta_control_prior = 1\n",
    "alpha_treatment_prior = 1\n",
    "beta_treatment_prior = 1\n",
    "\n",
    "# Create prior beta distributions for control and treatment groups\n",
    "prior_control = stats.beta(alpha_control_prior, beta_control_prior)\n",
    "prior_treatment = stats.beta(alpha_treatment_prior, beta_treatment_prior)"
   ]
  },
  {
   "cell_type": "code",
   "execution_count": 7,
   "id": "3963e313",
   "metadata": {},
   "outputs": [],
   "source": [
    "control = fdf[fdf['group'] == 'control']\n",
    "treatment = fdf[fdf['group'] == 'treatment']\n",
    "\n",
    "conversions_control = control.converted.sum()\n",
    "conversions_treatment = treatment.converted.sum()\n",
    "n_control = control.converted.count()\n",
    "n_treatment = treatment.converted.count()\n",
    "\n",
    "non_conversions_control = n_control - conversions_control\n",
    "non_conversions_treatment = n_treatment - conversions_treatment"
   ]
  },
  {
   "cell_type": "code",
   "execution_count": 8,
   "id": "5ad01516",
   "metadata": {},
   "outputs": [],
   "source": [
    "alpha_control_posterior = alpha_control_prior + conversions_control\n",
    "beta_control_posterior = beta_control_prior + non_conversions_control\n",
    "alpha_treatment_posterior = alpha_treatment_prior + conversions_treatment\n",
    "beta_treatment_posterior = beta_treatment_prior + non_conversions_treatment\n",
    "\n",
    "# Create posterior beta distributions for control and treatment groups\n",
    "posterior_control = stats.beta(alpha_control_posterior, beta_control_posterior)\n",
    "posterior_treatment = stats.beta(alpha_treatment_posterior, beta_treatment_posterior)"
   ]
  },
  {
   "cell_type": "code",
   "execution_count": 9,
   "id": "7d8a8fd7",
   "metadata": {},
   "outputs": [
    {
     "name": "stdout",
     "output_type": "stream",
     "text": [
      "Probability that treatment group's conversion rate is higher: 0.09635\n"
     ]
    }
   ],
   "source": [
    "samples = 100000\n",
    "\n",
    "# Draw samples from the posterior distributions\n",
    "control_samples = posterior_control.rvs(samples)\n",
    "treatment_samples = posterior_treatment.rvs(samples)\n",
    "\n",
    "# Calculate the probability that the treatment group's conversion rate is higher\n",
    "prob_treatment_better = (treatment_samples > control_samples).mean()\n",
    "\n",
    "print(f\"Probability that treatment group's conversion rate is higher: {prob_treatment_better}\")"
   ]
  },
  {
   "cell_type": "markdown",
   "id": "deee3211",
   "metadata": {},
   "source": [
    "This probability is a direct interpretation of the data in the context of your A/B test. A probability of 0.09635 (approximately 9.63%) means that there is a 9.63% chance that the treatment group's conversion rate is higher than the control group's conversion rate, given the observed data and the prior distributions you've chosen.\n",
    "\n",
    "In this case, the probability that the treatment group's conversion rate is higher is quite low (less than 10%). This suggests that the treatment group is unlikely to perform better than the control group, based on the available data."
   ]
  },
  {
   "cell_type": "code",
   "execution_count": null,
   "id": "9a4c6240",
   "metadata": {},
   "outputs": [],
   "source": []
  }
 ],
 "metadata": {
  "kernelspec": {
   "display_name": "Python 3 (ipykernel)",
   "language": "python",
   "name": "python3"
  },
  "language_info": {
   "codemirror_mode": {
    "name": "ipython",
    "version": 3
   },
   "file_extension": ".py",
   "mimetype": "text/x-python",
   "name": "python",
   "nbconvert_exporter": "python",
   "pygments_lexer": "ipython3",
   "version": "3.11.1"
  }
 },
 "nbformat": 4,
 "nbformat_minor": 5
}
